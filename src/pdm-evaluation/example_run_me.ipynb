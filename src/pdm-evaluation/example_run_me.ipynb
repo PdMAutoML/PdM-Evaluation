{
 "cells": [
  {
   "cell_type": "markdown",
   "metadata": {},
   "source": [
    "First, we import the flavor we want to use (here we use online - AutoProfileSemiSupervisedPdMExperiment)\n",
    "\n",
    "Other options:\n",
    "* Incremental (IncrementalSemiSupervisedPdMExperiment)\n",
    "* Unsupervised (UnsupervisedPdMExperiment)\n",
    "* Semisupervised with historical data (SemiSupervisedPdMExperiment)\n",
    "\n",
    "Each flavor comes with flavor-dependent constraints (you can also define a custom constraint for your use case) that ensure that the hyperparameter optimization performed obbeys real-world  use case constraints."
   ]
  },
  {
   "cell_type": "code",
   "execution_count": null,
   "metadata": {},
   "outputs": [],
   "source": [
    "from experiment.batch.auto_profile_semi_supervised_experiment import AutoProfileSemiSupervisedPdMExperiment\n",
    "from constraint_functions.constraint import auto_profile_max_wait_time_constraint"
   ]
  },
  {
   "cell_type": "markdown",
   "metadata": {},
   "source": [
    "Then, we import the pipeline and the method we want to use (here we use OCSVM).\n",
    "\n",
    "NOTE: The supervision of the method you choose should be matched with the flavor you chose in the previous step (some methods cannot be applied in an unsupervised way for example). Semisupervised flavors (online, incremental, semi with historic) expect a method that inherits the SemiSupervisedMethodInterface, while the unsupervised flavor expects a method that inherits the UnsupervisedMethodInterface."
   ]
  },
  {
   "cell_type": "code",
   "execution_count": 2,
   "metadata": {},
   "outputs": [],
   "source": [
    "from pipeline.pipeline import PdMPipeline\n",
    "from method.ocsvm import OneClassSVM"
   ]
  },
  {
   "cell_type": "markdown",
   "metadata": {},
   "source": [
    "Next, we import the dataset of our choice using the loadDataset method from utils (we will provide another example for using your own dataset). \n",
    "\n",
    "Here, we will use the IMS dataset that consists of 3 multivariate time-series each one generated from different source (i.e. machine)."
   ]
  },
  {
   "cell_type": "code",
   "execution_count": 3,
   "metadata": {},
   "outputs": [],
   "source": [
    "from utils import loadDataset\n",
    "\n",
    "dataset = loadDataset.get_dataset(\"ims\")"
   ]
  },
  {
   "cell_type": "markdown",
   "metadata": {},
   "source": [
    "For instantiating our pipeline, apart from the **method** and the **dataset** we also need a **preprocessor**, a **postprocessor** and a **thresholder**. The **preprocessor** applies some kind of transformation before the anomaly scores are generated, the **postprocessor** applies some kind of transformation on the anomaly scores the respective method produces and the **thresholder** applies a thresholding scheme to the postprocessed scores.\n",
    "\n",
    "Here we use the default ones for the preprocessing and postprocessing step (that do not apply anything to their input - you can also remove them from the dictionary and they will be automatically selected) and the constant thresholder for the thresholing step."
   ]
  },
  {
   "cell_type": "code",
   "execution_count": 4,
   "metadata": {},
   "outputs": [],
   "source": [
    "from preprocessing.record_level.default import DefaultPreProcessor\n",
    "from postprocessing.default import DefaultPostProcessor\n",
    "from thresholding.constant import ConstantThresholder\n",
    "\n",
    "my_pipeline = PdMPipeline(\n",
    "    steps={\n",
    "        'preprocessor': DefaultPreProcessor,\n",
    "        'method': OneClassSVM,\n",
    "        'postprocessor': DefaultPostProcessor,\n",
    "        'thresholder': ConstantThresholder,\n",
    "    },\n",
    "    dataset=dataset,\n",
    "    auc_resolution=100\n",
    ")"
   ]
  },
  {
   "cell_type": "markdown",
   "metadata": {},
   "source": [
    "Next, we define the method parameter search space that the optimizer will search through. For each parameter that corresponds to a specific step (preprocessor, method, postprocessor, thresholding) a prefix must be specified (\"preprocessor\", \"method\", \"postprocessor\", \"thresholer\" respectively)."
   ]
  },
  {
   "cell_type": "code",
   "execution_count": 5,
   "metadata": {},
   "outputs": [],
   "source": [
    "param_space = {\n",
    "    'method_kernel': ['linear', 'rbf', 'poly', 'sigmoid'],\n",
    "    'method_nu': [0.01, 0.05, 0.1, 0.15, 0.2, 0.5],\n",
    "    'method_gamma': ['scale', 'auto'],\n",
    "    'method_degree': [2, 3, 4, 5],\n",
    "}"
   ]
  },
  {
   "cell_type": "markdown",
   "metadata": {},
   "source": [
    "We also add the flavor parameters that will be optimized ('profile_size' for online and 'initial_incremental_window_length', 'incremental_window_length' and 'incremental_slide' for incremental. Unsupervised and semi with historical data do not expect any flavor-dependent parameters)."
   ]
  },
  {
   "cell_type": "code",
   "execution_count": 6,
   "metadata": {},
   "outputs": [],
   "source": [
    "param_space['profile_size'] = [50, 100, 150, 200]"
   ]
  },
  {
   "cell_type": "markdown",
   "metadata": {},
   "source": [
    "Finally, we define our experiment which performs hyperparameter tuning using Bayesian optimization with Mango (https://github.com/ARM-software/mango). We define our experiment name and pass the previously created parameter space and pipeline. Also, we pass the flavor constraint function. For optimizing with Mango we must set 4 more parameters. The first one is the optimization objective based on which the hyperparameters will be determined. The rest 3 are num_iteration, n_jobs and initial_random. initial_random defines the number of parameter configurations that will be executed before Mango starts applying its Bayesian optimization algorithm, n_jobs defines the number of jobs that will be run in parallel and num_iteration defines the number of rounds that will be executed during optimization. The final number of configurations tested will be `n_jobs x num_iteration  + initial_random` (although initial_random is a suggestion to the optimizer and in somecases more or less configurations than that will be tested)."
   ]
  },
  {
   "cell_type": "markdown",
   "metadata": {},
   "source": [
    "Other options for optimization_param:\n",
    "* AD1_AUC\t\n",
    "* AD1_f1\t\n",
    "* AD1_rcl\t\n",
    "* AD2_AUC\t\n",
    "* AD2_f1\t\n",
    "* AD2_rcl\t\n",
    "* AD3_AUC\t\n",
    "* AD3_f1\t\n",
    "* AD3_rcl\t\n",
    "* VUS_AUC_PR\n",
    "* VUS_AUC_ROC\n",
    "* VUS_Affiliation_Precision\n",
    "* VUS_Affiliation_Recall\n",
    "* VUS_F\n",
    "* VUS_Precision\n",
    "* VUS_Precision_at_k\n",
    "* VUS_RF\n",
    "* VUS_R_AUC_PR\n",
    "* VUS_R_AUC_ROC\n",
    "* VUS_Recall\n",
    "* VUS_Rprecision\n",
    "* VUS_Rrecall\n",
    "* VUS_VUS_PR\n",
    "* VUS_VUS_ROC"
   ]
  },
  {
   "cell_type": "code",
   "execution_count": 7,
   "metadata": {},
   "outputs": [
    {
     "name": "stdout",
     "output_type": "stream",
     "text": [
      "rm -f main.o evaluator.o evaluate\n",
      "c++ -fPIC -Wall -std=c++11 -O2 -g   -c -o main.o main.cpp\n",
      "c++ -fPIC -Wall -std=c++11 -O2 -g   -c -o evaluator.o evaluator.cpp\n",
      "c++ -fPIC -Wall -std=c++11 -O2 -g   -o evaluate main.o evaluator.o\n"
     ]
    }
   ],
   "source": [
    "my_experiment = AutoProfileSemiSupervisedPdMExperiment(\n",
    "    experiment_name='my first experiment',\n",
    "    pipeline=my_pipeline,\n",
    "    param_space=param_space,\n",
    "    num_iteration=4,\n",
    "    n_jobs=4,\n",
    "    initial_random=4,\n",
    "    constraint_function=auto_profile_max_wait_time_constraint(my_pipeline),\n",
    "    debug=True,\n",
    "    optimization_param='VUS_AUC_PR'\n",
    ")"
   ]
  },
  {
   "cell_type": "code",
   "execution_count": 8,
   "metadata": {},
   "outputs": [
    {
     "name": "stderr",
     "output_type": "stream",
     "text": [
      "WARNING:root:Experiment with experiment name 'my first experiment' already exists. Be careful if you are sure about including your run in this experiment.\n"
     ]
    },
    {
     "name": "stdout",
     "output_type": "stream",
     "text": [
      "{'nu': 0.1, 'kernel': 'linear', 'gamma': 'auto', 'degree': 2, 'profile_size': 150}\n",
      "{'nu': 0.05, 'kernel': 'linear', 'gamma': 'auto', 'degree': 2, 'profile_size': 150}\n",
      "{'nu': 0.01, 'kernel': 'poly', 'gamma': 'scale', 'degree': 4, 'profile_size': 200}\n",
      "{}\n",
      "{}\n",
      "{}\n",
      "{'nu': 0.05, 'kernel': 'sigmoid', 'gamma': 'scale', 'degree': 3, 'profile_size': 150}\n",
      "{}\n"
     ]
    },
    {
     "name": "stderr",
     "output_type": "stream",
     "text": [
      "  0%|          | 0/4 [00:00<?, ?it/s]"
     ]
    },
    {
     "name": "stdout",
     "output_type": "stream",
     "text": [
      "{'degree': 2, 'gamma': 'scale', 'kernel': 'poly', 'nu': 0.5, 'profile_size': 200}\n",
      "{}\n",
      "{'degree': 5, 'gamma': 'auto', 'kernel': 'rbf', 'nu': 0.05, 'profile_size': 50}\n",
      "{}\n",
      "{'degree': 5, 'gamma': 'scale', 'kernel': 'rbf', 'nu': 0.15, 'profile_size': 150}\n",
      "{}\n",
      "{'degree': 2, 'gamma': 'scale', 'kernel': 'linear', 'nu': 0.5, 'profile_size': 50}\n",
      "{}\n"
     ]
    },
    {
     "name": "stderr",
     "output_type": "stream",
     "text": [
      "Best score: 0.28408692041229566:  25%|██▌       | 1/4 [00:08<00:26,  8.71s/it]"
     ]
    },
    {
     "name": "stdout",
     "output_type": "stream",
     "text": [
      "{'degree': 2, 'gamma': 'auto', 'kernel': 'rbf', 'nu': 0.01, 'profile_size': 100}\n",
      "{}\n",
      "{'degree': 4, 'gamma': 'scale', 'kernel': 'sigmoid', 'nu': 0.1, 'profile_size': 150}\n",
      "{}\n",
      "{'degree': 3, 'gamma': 'scale', 'kernel': 'linear', 'nu': 0.5, 'profile_size': 150}\n",
      "{}\n",
      "{'degree': 3, 'gamma': 'auto', 'kernel': 'rbf', 'nu': 0.2, 'profile_size': 150}\n",
      "{}\n"
     ]
    },
    {
     "name": "stderr",
     "output_type": "stream",
     "text": [
      "Best score: 0.34775647653517366:  50%|█████     | 2/4 [00:17<00:17,  8.51s/it]"
     ]
    },
    {
     "name": "stdout",
     "output_type": "stream",
     "text": [
      "{'degree': 4, 'gamma': 'scale', 'kernel': 'sigmoid', 'nu': 0.01, 'profile_size': 150}\n",
      "{}\n",
      "{'degree': 2, 'gamma': 'scale', 'kernel': 'sigmoid', 'nu': 0.15, 'profile_size': 200}\n",
      "{}\n",
      "{'degree': 3, 'gamma': 'auto', 'kernel': 'sigmoid', 'nu': 0.15, 'profile_size': 50}\n",
      "{}\n",
      "{'degree': 2, 'gamma': 'auto', 'kernel': 'linear', 'nu': 0.01, 'profile_size': 200}\n",
      "{}\n"
     ]
    },
    {
     "name": "stderr",
     "output_type": "stream",
     "text": [
      "Best score: 0.34775647653517366:  75%|███████▌  | 3/4 [00:25<00:08,  8.44s/it]"
     ]
    },
    {
     "name": "stdout",
     "output_type": "stream",
     "text": [
      "{'degree': 5, 'gamma': 'scale', 'kernel': 'sigmoid', 'nu': 0.15, 'profile_size': 200}\n",
      "{'degree': 2, 'gamma': 'auto', 'kernel': 'rbf', 'nu': 0.1, 'profile_size': 150}\n",
      "{}\n",
      "{}\n",
      "{'degree': 5, 'gamma': 'scale', 'kernel': 'sigmoid', 'nu': 0.15, 'profile_size': 100}\n",
      "{}\n",
      "{'degree': 3, 'gamma': 'auto', 'kernel': 'linear', 'nu': 0.5, 'profile_size': 50}\n",
      "{}\n"
     ]
    },
    {
     "name": "stderr",
     "output_type": "stream",
     "text": [
      "Best score: 0.34775647653517366: 100%|██████████| 4/4 [00:33<00:00,  8.45s/it]"
     ]
    },
    {
     "name": "stdout",
     "output_type": "stream",
     "text": [
      "{'method_degree': 3, 'method_gamma': 'auto', 'method_kernel': 'rbf', 'method_nu': 0.2, 'profile_size': 150}\n"
     ]
    },
    {
     "name": "stderr",
     "output_type": "stream",
     "text": [
      "\n"
     ]
    }
   ],
   "source": [
    "best_params = my_experiment.execute()\n",
    "print(best_params)"
   ]
  }
 ],
 "metadata": {
  "kernelspec": {
   "display_name": "PdM-Evaluation",
   "language": "python",
   "name": "python3"
  },
  "language_info": {
   "codemirror_mode": {
    "name": "ipython",
    "version": 3
   },
   "file_extension": ".py",
   "mimetype": "text/x-python",
   "name": "python",
   "nbconvert_exporter": "python",
   "pygments_lexer": "ipython3",
   "version": "3.9.7"
  }
 },
 "nbformat": 4,
 "nbformat_minor": 2
}
